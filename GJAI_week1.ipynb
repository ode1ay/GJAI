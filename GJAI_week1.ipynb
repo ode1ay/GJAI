{
  "nbformat": 4,
  "nbformat_minor": 0,
  "metadata": {
    "colab": {
      "name": "GJAI_week1.ipynb",
      "provenance": [],
      "authorship_tag": "ABX9TyPR9Z8RPQLYY22TgW5wckI/",
      "include_colab_link": true
    },
    "kernelspec": {
      "name": "python3",
      "display_name": "Python 3"
    }
  },
  "cells": [
    {
      "cell_type": "markdown",
      "metadata": {
        "id": "view-in-github",
        "colab_type": "text"
      },
      "source": [
        "<a href=\"https://colab.research.google.com/github/ode1ay/GJAI/blob/master/GJAI_week1.ipynb\" target=\"_parent\"><img src=\"https://colab.research.google.com/assets/colab-badge.svg\" alt=\"Open In Colab\"/></a>"
      ]
    },
    {
      "cell_type": "markdown",
      "metadata": {
        "id": "ikL11K4qZhg5",
        "colab_type": "text"
      },
      "source": [
        "## 인공지능 적용 분야 1. 언어 "
      ]
    },
    {
      "cell_type": "markdown",
      "metadata": {
        "id": "AnkBsh71Z-xy",
        "colab_type": "text"
      },
      "source": [
        "## 인공지능 적용 분야 2. 음성"
      ]
    },
    {
      "cell_type": "markdown",
      "metadata": {
        "id": "U-_9a7zTaOdY",
        "colab_type": "text"
      },
      "source": [
        "## 인공지능 적용 분야 3. 이미지"
      ]
    },
    {
      "cell_type": "markdown",
      "metadata": {
        "id": "Bw0yAgTraTt_",
        "colab_type": "text"
      },
      "source": [
        "## 인공지능 적용 분야 4. 자율주행"
      ]
    },
    {
      "cell_type": "code",
      "metadata": {
        "id": "TqiMr3c8aduO",
        "colab_type": "code",
        "colab": {}
      },
      "source": [
        ""
      ],
      "execution_count": 0,
      "outputs": []
    }
  ]
}