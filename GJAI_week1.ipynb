{
  "nbformat": 4,
  "nbformat_minor": 0,
  "metadata": {
    "colab": {
      "name": "GJAI_week1.ipynb",
      "provenance": [],
      "collapsed_sections": [],
      "authorship_tag": "ABX9TyPFSgJkUcUsPFZRLZ95hl7Q",
      "include_colab_link": true
    },
    "kernelspec": {
      "name": "python3",
      "display_name": "Python 3"
    }
  },
  "cells": [
    {
      "cell_type": "markdown",
      "metadata": {
        "id": "view-in-github",
        "colab_type": "text"
      },
      "source": [
        "<a href=\"https://colab.research.google.com/github/ode1ay/GJAI/blob/master/GJAI_week1.ipynb\" target=\"_parent\"><img src=\"https://colab.research.google.com/assets/colab-badge.svg\" alt=\"Open In Colab\"/></a>"
      ]
    },
    {
      "cell_type": "markdown",
      "metadata": {
        "id": "ikL11K4qZhg5",
        "colab_type": "text"
      },
      "source": [
        "## 인공지능 적용 분야 1. 언어 \n",
        "#### 대표적인 언어 분야 인공지능 적용 서비스 사례: 통/번역 서비스\n",
        "- 구글번역: 2016년에 '딥러닝'과 '인공신경망' 기반의 번역서비스 도입. 현재 약 100여개 언어 지원. 한국어를 비롯한 8개 언어조합에 자체개발한 인공신경망 번역기술인 '구글 신경망 기계번역(Google's Neural Machine Translation)'을 적용\n",
        "- 네이버 파파고: 2016년 첫 선. 자체개발한 인공신경망 번역기술인 'N2MT(Naver Neural Machine Translation) 적용. 네이버의 방대한 한글 데이터를 학습함에 따라 높임말 등의 특색을 살린 우리말 번역 가능"
      ]
    },
    {
      "cell_type": "markdown",
      "metadata": {
        "id": "AnkBsh71Z-xy",
        "colab_type": "text"
      },
      "source": [
        "## 인공지능 적용 분야 2. 음성"
      ]
    },
    {
      "cell_type": "markdown",
      "metadata": {
        "id": "U-_9a7zTaOdY",
        "colab_type": "text"
      },
      "source": [
        "## 인공지능 적용 분야 3. 이미지"
      ]
    },
    {
      "cell_type": "markdown",
      "metadata": {
        "id": "Bw0yAgTraTt_",
        "colab_type": "text"
      },
      "source": [
        "## 인공지능 적용 분야 4. 자율주행"
      ]
    },
    {
      "cell_type": "code",
      "metadata": {
        "id": "TqiMr3c8aduO",
        "colab_type": "code",
        "colab": {}
      },
      "source": [
        ""
      ],
      "execution_count": 0,
      "outputs": []
    }
  ]
}