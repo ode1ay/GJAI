{
  "nbformat": 4,
  "nbformat_minor": 0,
  "metadata": {
    "colab": {
      "name": "GJAI_week1.ipynb",
      "provenance": [],
      "collapsed_sections": [],
      "authorship_tag": "ABX9TyNl5u95/i9pLkmd1ihHxeJw",
      "include_colab_link": true
    },
    "kernelspec": {
      "name": "python3",
      "display_name": "Python 3"
    }
  },
  "cells": [
    {
      "cell_type": "markdown",
      "metadata": {
        "id": "view-in-github",
        "colab_type": "text"
      },
      "source": [
        "<a href=\"https://colab.research.google.com/github/ode1ay/GJAI/blob/master/GJAI_week1.ipynb\" target=\"_parent\"><img src=\"https://colab.research.google.com/assets/colab-badge.svg\" alt=\"Open In Colab\"/></a>"
      ]
    },
    {
      "cell_type": "markdown",
      "metadata": {
        "id": "ikL11K4qZhg5",
        "colab_type": "text"
      },
      "source": [
        "## 인공지능 적용 분야 1. 언어 \n",
        "#### 대표적인 언어 분야 인공지능 적용 서비스 사례: 통역, 번역 서비스\n",
        "- 구글 번역: 2007년에 처음 소개된 후, 2016년에 '딥러닝'과 '인공신경망' 기반의 번역서비스를 도입. 현재 약 100여개 언어 번역 지원. 한국어를 비롯한 8개 언어조합에 자체개발한 인공신경망 번역기술인 '구글 신경망 기계번역(Google's Neural Machine Translation)'을 적용.\n",
        "- 네이버 파파고: 2016년에 '인공지능' 기반의 번역서비스로서 소개. 현재 13개 언어 번역 지원. 자체개발한 인공신경망 번역기술인 'N2MT(Naver Neural Machine Translation) 적용. 네이버의 방대한 한글 데이터를 학습함에 따라 높임말 등의 특색을 살린 우리말 번역 가능.\n",
        "\n",
        "[자료 출처](https://blog.siren24.com/211)"
      ]
    },
    {
      "cell_type": "markdown",
      "metadata": {
        "id": "AnkBsh71Z-xy",
        "colab_type": "text"
      },
      "source": [
        "## 인공지능 적용 분야 2. 음성\n",
        "#### 대표적인 음성 분야 인공지능 적용 서비스 사례: 음성인식, 음성합성, 음성변환 서비스\n",
        "- Google, MS, Amazon, 네이버, 카카오 등 유수의 기업에서 딥러닝을 기반으로 보다 자연스러운 음성인식(STT), 음성합성(TTS) 서비스를 개발하여 제공 중.\n",
        "- 음성인식(Speech-to-Text): 사람이 말하는 음성언어를 컴퓨터가 해석해 그 내용을 문자 데이터로 변환하는 음성-문자 변환 시스템\n",
        "- 음성합성(Text-to-Speech): 텍스트를 음성으로 변환하는 기술. 음성 안내, 책 읽기 서비스 등 다양한 분야에서 활용 가능\n",
        "\n",
        "[자료 출처](https://speech-api.kakao.com/)"
      ]
    },
    {
      "cell_type": "markdown",
      "metadata": {
        "id": "U-_9a7zTaOdY",
        "colab_type": "text"
      },
      "source": [
        "## 인공지능 적용 분야 3. 이미지\n",
        "#### 대표적인 이미지 분야 인공지능 적용 서비스 사례: 컴퓨터 비전/이미지 인식, 이미지 변환, 이미지 생성 서비스\n",
        "\n",
        "- 구글 포토: 저장한 사진들에 대해 이미지 인식 기술을 적용해 사진을 분류 및 검색\n",
        "- 의료 이미지 분석: 의료 이미지 분석을 통해 질병을 예측하고 분석하는 서비스 제공. 의사의 진료 보조.\n",
        "- 엔비디아, 어도비:  이미지 생성/변환 기술이 적용된 서비스 제공. 콘텐츠 제작과정상 효율화에 기여.\n",
        "\n",
        "[자료 출처](https://www.samsungsds.com/global/ko/news/story/visual-0214.html)\n",
        "[자료 출처](https://blog.ncsoft.com/%EA%B2%8C%EC%9E%84%EA%B3%BC-ai-9-%EA%B2%8C%EC%9E%84-%EA%B0%9C%EB%B0%9C%EC%9D%98-%ED%9A%A8%EC%9C%A8%EC%9D%84-%EB%86%92%EC%97%AC%EC%A3%BC%EB%8A%94-%EC%9D%B4%EB%AF%B8%EC%A7%80-%EC%83%9D%EC%84%B1/)"
      ]
    },
    {
      "cell_type": "markdown",
      "metadata": {
        "id": "Bw0yAgTraTt_",
        "colab_type": "text"
      },
      "source": [
        "## 인공지능 적용 분야 4. 자율주행\n",
        "#### 대표적인 자율주행 분야 인공지능 적용 서비스 사례: 자율주행\n",
        "- 현재 각국 기업과 정부는 자율주행차를 새로운 성장산업으로 지목하고 적극적인 노력을 진행 중. (GM, Tesla, Ford, Volkswagen, Uber, Honda, 현대기아차 / 한국, 미국, EU, 일본, 중국 등)\n",
        "- 자율주행차는 안전, 환경, 노령화 등 문제 해결에 대한 새로운 대안으로 부상하고 있으며 공유경제, 보험, 의료, 부동산 등 신산업 창출과 다른 산업들에 대한 파급효과가 큼.\n",
        "- 자율주행 기술은 주행에 필요한 정보/신호를 입력받는 인지기술, 정보/신호를 처리하는 소프트웨어 등 판단기술, 조향/제동/가속을 위한 제어기술 등 다양한 기술들이 집적 구성됨\n",
        "\n",
        "[자료출처](https://rd.kdb.co.kr/fileView?groupId=9079A41A-33FF-94DC-7492-B1028A5CB1DD&fileId=75221FDC-1CFD-71FD-667D-C9AEEA562DAD)"
      ]
    }
  ]
}