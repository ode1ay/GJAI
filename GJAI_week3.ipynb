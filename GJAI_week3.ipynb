{
  "nbformat": 4,
  "nbformat_minor": 0,
  "metadata": {
    "colab": {
      "name": "GJAI_week3",
      "provenance": [],
      "collapsed_sections": [],
      "include_colab_link": true
    },
    "kernelspec": {
      "name": "python3",
      "display_name": "Python 3"
    }
  },
  "cells": [
    {
      "cell_type": "markdown",
      "metadata": {
        "id": "view-in-github",
        "colab_type": "text"
      },
      "source": [
        "<a href=\"https://colab.research.google.com/github/ode1ay/GJAI/blob/master/GJAI_week3.ipynb\" target=\"_parent\"><img src=\"https://colab.research.google.com/assets/colab-badge.svg\" alt=\"Open In Colab\"/></a>"
      ]
    },
    {
      "cell_type": "markdown",
      "metadata": {
        "id": "YbgBvQ6DjxMm",
        "colab_type": "text"
      },
      "source": [
        "# 3주차 과제\n",
        "- 학습률 최적화\n",
        "- 군집 분석(병합 계층 군집) 구현 클론 코딩\n",
        "- Cost function 구현"
      ]
    },
    {
      "cell_type": "markdown",
      "metadata": {
        "id": "evbG1BaNI1qd",
        "colab_type": "text"
      },
      "source": [
        "## 1. 학습률 최적화"
      ]
    },
    {
      "cell_type": "markdown",
      "metadata": {
        "id": "rqvqy18tI5Q5",
        "colab_type": "text"
      },
      "source": [
        "간단한 예제를 통해 학습률 최적화의 중요성에 대해서 확인 해 보도록 하겠습니다.\n",
        "\n",
        "아래 링크에서 __1단계만__에 손실 곡선의 최저점에 도달하게 하는 학습률을 찾아 정답을 적어주세요\n",
        "\n",
        "링크: https://developers.google.com/machine-learning/crash-course/fitter/graph?hl=ko"
      ]
    },
    {
      "cell_type": "markdown",
      "metadata": {
        "id": "HKdQdHs3Sax-",
        "colab_type": "text"
      },
      "source": [
        "### 정답 : 1.60"
      ]
    },
    {
      "cell_type": "markdown",
      "metadata": {
        "id": "zBuhqFe3SjKX",
        "colab_type": "text"
      },
      "source": [
        "## 2. 군집 분석(병합 계층 군집) 구현 클론 코딩"
      ]
    },
    {
      "cell_type": "markdown",
      "metadata": {
        "id": "SEuHj4ps1vcp",
        "colab_type": "text"
      },
      "source": [
        "군집 분석 강의(군집문제[2] 3:10 ~ 5:20 부분)를 보고 코드를 따라 치며 출력 결과(과제 설명 페이지 참고)를 만드세요. \n",
        "\n",
        "강의에서는 데이터 시각화까지 진행하지만 \n",
        "과제에서는 표를 출력하는 것 까지만 하시면 됩니다.\n",
        "\n",
        "3주차 과제 안내 페이지를 보시면 표에 대한 이미지가 있습니다. 참고해주세요"
      ]
    },
    {
      "cell_type": "markdown",
      "metadata": {
        "id": "tQgNY0BTiHTj",
        "colab_type": "text"
      },
      "source": [
        "#### 데이터 생성하기"
      ]
    },
    {
      "cell_type": "code",
      "metadata": {
        "id": "JN1YPCENSphW",
        "colab_type": "code",
        "colab": {
          "base_uri": "https://localhost:8080/",
          "height": 107
        },
        "outputId": "d52dcdf8-2700-45d7-c838-81207c3f74ef"
      },
      "source": [
        "import numpy as np\n",
        "np.random.seed(123)\n",
        "X=np.random.random_sample([5,3])*10 # 0~1사이 임의의 실수를 5*3 행렬로 생성. 어느 정도 거리를 만들기 위해 10을 곱함\n",
        "X"
      ],
      "execution_count": 1,
      "outputs": [
        {
          "output_type": "execute_result",
          "data": {
            "text/plain": [
              "array([[6.96469186, 2.86139335, 2.26851454],\n",
              "       [5.51314769, 7.1946897 , 4.2310646 ],\n",
              "       [9.80764198, 6.84829739, 4.80931901],\n",
              "       [3.92117518, 3.43178016, 7.29049707],\n",
              "       [4.38572245, 0.59677897, 3.98044255]])"
            ]
          },
          "metadata": {
            "tags": []
          },
          "execution_count": 1
        }
      ]
    },
    {
      "cell_type": "code",
      "metadata": {
        "id": "ivuUd7qZhaIl",
        "colab_type": "code",
        "colab": {
          "base_uri": "https://localhost:8080/",
          "height": 204
        },
        "outputId": "e511fd0e-ec65-4fc7-c7dd-b3da8e7ad86d"
      },
      "source": [
        "import pandas as pd\n",
        "variables = ['X','Y','Z']\n",
        "labels = ['ID_0', 'ID_1', 'ID_2', 'ID_3', 'ID_4']\n",
        "df = pd.DataFrame(X, columns=variables, index=labels) # dataframe 만들기\n",
        "df"
      ],
      "execution_count": 2,
      "outputs": [
        {
          "output_type": "execute_result",
          "data": {
            "text/html": [
              "<div>\n",
              "<style scoped>\n",
              "    .dataframe tbody tr th:only-of-type {\n",
              "        vertical-align: middle;\n",
              "    }\n",
              "\n",
              "    .dataframe tbody tr th {\n",
              "        vertical-align: top;\n",
              "    }\n",
              "\n",
              "    .dataframe thead th {\n",
              "        text-align: right;\n",
              "    }\n",
              "</style>\n",
              "<table border=\"1\" class=\"dataframe\">\n",
              "  <thead>\n",
              "    <tr style=\"text-align: right;\">\n",
              "      <th></th>\n",
              "      <th>X</th>\n",
              "      <th>Y</th>\n",
              "      <th>Z</th>\n",
              "    </tr>\n",
              "  </thead>\n",
              "  <tbody>\n",
              "    <tr>\n",
              "      <th>ID_0</th>\n",
              "      <td>6.964692</td>\n",
              "      <td>2.861393</td>\n",
              "      <td>2.268515</td>\n",
              "    </tr>\n",
              "    <tr>\n",
              "      <th>ID_1</th>\n",
              "      <td>5.513148</td>\n",
              "      <td>7.194690</td>\n",
              "      <td>4.231065</td>\n",
              "    </tr>\n",
              "    <tr>\n",
              "      <th>ID_2</th>\n",
              "      <td>9.807642</td>\n",
              "      <td>6.848297</td>\n",
              "      <td>4.809319</td>\n",
              "    </tr>\n",
              "    <tr>\n",
              "      <th>ID_3</th>\n",
              "      <td>3.921175</td>\n",
              "      <td>3.431780</td>\n",
              "      <td>7.290497</td>\n",
              "    </tr>\n",
              "    <tr>\n",
              "      <th>ID_4</th>\n",
              "      <td>4.385722</td>\n",
              "      <td>0.596779</td>\n",
              "      <td>3.980443</td>\n",
              "    </tr>\n",
              "  </tbody>\n",
              "</table>\n",
              "</div>"
            ],
            "text/plain": [
              "             X         Y         Z\n",
              "ID_0  6.964692  2.861393  2.268515\n",
              "ID_1  5.513148  7.194690  4.231065\n",
              "ID_2  9.807642  6.848297  4.809319\n",
              "ID_3  3.921175  3.431780  7.290497\n",
              "ID_4  4.385722  0.596779  3.980443"
            ]
          },
          "metadata": {
            "tags": []
          },
          "execution_count": 2
        }
      ]
    },
    {
      "cell_type": "markdown",
      "metadata": {
        "id": "ck00pZqZL9pD",
        "colab_type": "text"
      },
      "source": [
        "#### 모든 데이터의 거리행렬 계산하기"
      ]
    },
    {
      "cell_type": "code",
      "metadata": {
        "id": "5107FZ_Vh6gd",
        "colab_type": "code",
        "colab": {}
      },
      "source": [
        "from scipy.spatial.distance import pdist, squareform"
      ],
      "execution_count": 0,
      "outputs": []
    },
    {
      "cell_type": "code",
      "metadata": {
        "id": "9Diut7mzh6XE",
        "colab_type": "code",
        "colab": {
          "base_uri": "https://localhost:8080/",
          "height": 53
        },
        "outputId": "28429eb2-fa66-4ebb-b565-93c41c5cf44f"
      },
      "source": [
        "Y = pdist(df) # pdist: n차원 공간의 객체간의 짝 거리(pariwise distance) (5개 객체이므로 객체간 거리는 순열조합 수 5*4/2=10개. 아래 행렬표 참고)\n",
        "Y"
      ],
      "execution_count": 5,
      "outputs": [
        {
          "output_type": "execute_result",
          "data": {
            "text/plain": [
              "array([4.973534  , 5.51665266, 5.89988504, 3.83539555, 4.34707339,\n",
              "       5.10431109, 6.69823298, 7.24426159, 8.31659367, 4.382864  ])"
            ]
          },
          "metadata": {
            "tags": []
          },
          "execution_count": 5
        }
      ]
    },
    {
      "cell_type": "code",
      "metadata": {
        "id": "Itw4JDP7Qhi-",
        "colab_type": "code",
        "colab": {
          "base_uri": "https://localhost:8080/",
          "height": 204
        },
        "outputId": "4f28e35f-a227-4407-e040-b7996cb40389"
      },
      "source": [
        "row_dist = pd.DataFrame(squareform(pdist(df,metric='euclidean')), columns=labels, index=labels) # 거리행렬 벡터를 행렬형식으로 변환\n",
        "row_dist"
      ],
      "execution_count": 6,
      "outputs": [
        {
          "output_type": "execute_result",
          "data": {
            "text/html": [
              "<div>\n",
              "<style scoped>\n",
              "    .dataframe tbody tr th:only-of-type {\n",
              "        vertical-align: middle;\n",
              "    }\n",
              "\n",
              "    .dataframe tbody tr th {\n",
              "        vertical-align: top;\n",
              "    }\n",
              "\n",
              "    .dataframe thead th {\n",
              "        text-align: right;\n",
              "    }\n",
              "</style>\n",
              "<table border=\"1\" class=\"dataframe\">\n",
              "  <thead>\n",
              "    <tr style=\"text-align: right;\">\n",
              "      <th></th>\n",
              "      <th>ID_0</th>\n",
              "      <th>ID_1</th>\n",
              "      <th>ID_2</th>\n",
              "      <th>ID_3</th>\n",
              "      <th>ID_4</th>\n",
              "    </tr>\n",
              "  </thead>\n",
              "  <tbody>\n",
              "    <tr>\n",
              "      <th>ID_0</th>\n",
              "      <td>0.000000</td>\n",
              "      <td>4.973534</td>\n",
              "      <td>5.516653</td>\n",
              "      <td>5.899885</td>\n",
              "      <td>3.835396</td>\n",
              "    </tr>\n",
              "    <tr>\n",
              "      <th>ID_1</th>\n",
              "      <td>4.973534</td>\n",
              "      <td>0.000000</td>\n",
              "      <td>4.347073</td>\n",
              "      <td>5.104311</td>\n",
              "      <td>6.698233</td>\n",
              "    </tr>\n",
              "    <tr>\n",
              "      <th>ID_2</th>\n",
              "      <td>5.516653</td>\n",
              "      <td>4.347073</td>\n",
              "      <td>0.000000</td>\n",
              "      <td>7.244262</td>\n",
              "      <td>8.316594</td>\n",
              "    </tr>\n",
              "    <tr>\n",
              "      <th>ID_3</th>\n",
              "      <td>5.899885</td>\n",
              "      <td>5.104311</td>\n",
              "      <td>7.244262</td>\n",
              "      <td>0.000000</td>\n",
              "      <td>4.382864</td>\n",
              "    </tr>\n",
              "    <tr>\n",
              "      <th>ID_4</th>\n",
              "      <td>3.835396</td>\n",
              "      <td>6.698233</td>\n",
              "      <td>8.316594</td>\n",
              "      <td>4.382864</td>\n",
              "      <td>0.000000</td>\n",
              "    </tr>\n",
              "  </tbody>\n",
              "</table>\n",
              "</div>"
            ],
            "text/plain": [
              "          ID_0      ID_1      ID_2      ID_3      ID_4\n",
              "ID_0  0.000000  4.973534  5.516653  5.899885  3.835396\n",
              "ID_1  4.973534  0.000000  4.347073  5.104311  6.698233\n",
              "ID_2  5.516653  4.347073  0.000000  7.244262  8.316594\n",
              "ID_3  5.899885  5.104311  7.244262  0.000000  4.382864\n",
              "ID_4  3.835396  6.698233  8.316594  4.382864  0.000000"
            ]
          },
          "metadata": {
            "tags": []
          },
          "execution_count": 6
        }
      ]
    },
    {
      "cell_type": "code",
      "metadata": {
        "id": "tXRx1nT-Qhbn",
        "colab_type": "code",
        "colab": {}
      },
      "source": [
        "from scipy.cluster.hierarchy import linkage # 병합방식 적용 위한 패키지 import"
      ],
      "execution_count": 0,
      "outputs": []
    },
    {
      "cell_type": "code",
      "metadata": {
        "id": "UGNzpcRHhLMv",
        "colab_type": "code",
        "colab": {
          "base_uri": "https://localhost:8080/",
          "height": 125
        },
        "outputId": "c541b1d0-e984-48c5-dbfd-3227d3f82354"
      },
      "source": [
        "row_clusters = linkage(row_dist, method='complete', metric='euclidean') # 그냥 squareform 함수 통과시킨 데이터프레임 넣어주면 기대와 다른 결과 출력 \n",
        "row_clusters"
      ],
      "execution_count": 13,
      "outputs": [
        {
          "output_type": "stream",
          "text": [
            "/usr/local/lib/python3.6/dist-packages/ipykernel_launcher.py:1: ClusterWarning: scipy.cluster: The symmetric non-negative hollow observation matrix looks suspiciously like an uncondensed distance matrix\n",
            "  \"\"\"Entry point for launching an IPython kernel.\n"
          ],
          "name": "stderr"
        },
        {
          "output_type": "execute_result",
          "data": {
            "text/plain": [
              "array([[ 0.        ,  4.        ,  6.52197264,  2.        ],\n",
              "       [ 1.        ,  2.        ,  6.72960262,  2.        ],\n",
              "       [ 3.        ,  5.        ,  8.53924727,  3.        ],\n",
              "       [ 6.        ,  7.        , 12.44482356,  5.        ]])"
            ]
          },
          "metadata": {
            "tags": []
          },
          "execution_count": 13
        }
      ]
    },
    {
      "cell_type": "code",
      "metadata": {
        "id": "7cEZZAXLjy1i",
        "colab_type": "code",
        "colab": {}
      },
      "source": [
        "#help(linkage) # pdist 함수에서 축약된 거리 행렬을 입력 속성으로 사용. linkage 함수에서 초기 데이터 배열을 전달하고 euclidean 지표를 매개변수로 사용"
      ],
      "execution_count": 0,
      "outputs": []
    },
    {
      "cell_type": "code",
      "metadata": {
        "id": "xSszDE7qhLKO",
        "colab_type": "code",
        "colab": {
          "base_uri": "https://localhost:8080/",
          "height": 89
        },
        "outputId": "50a07116-1e6b-4bd0-dfbd-723e2ad537ce"
      },
      "source": [
        "row_clusters = linkage(pdist(df,metric='euclidean'), method='complete') # 축약된 거리 행렬을 사용해 올바른 거리행렬 얻기 \n",
        "row_clusters"
      ],
      "execution_count": 15,
      "outputs": [
        {
          "output_type": "execute_result",
          "data": {
            "text/plain": [
              "array([[0.        , 4.        , 3.83539555, 2.        ],\n",
              "       [1.        , 2.        , 4.34707339, 2.        ],\n",
              "       [3.        , 5.        , 5.89988504, 3.        ],\n",
              "       [6.        , 7.        , 8.31659367, 5.        ]])"
            ]
          },
          "metadata": {
            "tags": []
          },
          "execution_count": 15
        }
      ]
    },
    {
      "cell_type": "code",
      "metadata": {
        "id": "SztkP2_hhLGt",
        "colab_type": "code",
        "colab": {
          "base_uri": "https://localhost:8080/",
          "height": 89
        },
        "outputId": "f20bc612-5b23-4ca2-b4bb-17d4055d9b82"
      },
      "source": [
        "row_clusters = linkage(df.values, method='complete', metric='euclidean') # 원본 샘플 행렬을 사용해 올바른 연결행렬 얻기\n",
        "row_clusters"
      ],
      "execution_count": 16,
      "outputs": [
        {
          "output_type": "execute_result",
          "data": {
            "text/plain": [
              "array([[0.        , 4.        , 3.83539555, 2.        ],\n",
              "       [1.        , 2.        , 4.34707339, 2.        ],\n",
              "       [3.        , 5.        , 5.89988504, 3.        ],\n",
              "       [6.        , 7.        , 8.31659367, 5.        ]])"
            ]
          },
          "metadata": {
            "tags": []
          },
          "execution_count": 16
        }
      ]
    },
    {
      "cell_type": "code",
      "metadata": {
        "id": "gV-NSCDkhLDi",
        "colab_type": "code",
        "colab": {
          "base_uri": "https://localhost:8080/",
          "height": 173
        },
        "outputId": "1ba4dd2c-6cd5-4716-f6df-cc19efb8774d"
      },
      "source": [
        "# 군집결과를 자세히 살펴보기 위해 결과를 pd.dafaframe으로 변환\n",
        "pd.DataFrame(row_clusters, \n",
        "             columns=['row label 1','row label 2','distance','no. of items in clust.'],\n",
        "             index=['cluster %d' %(i+1) for i in range(row_clusters.shape[0])])"
      ],
      "execution_count": 17,
      "outputs": [
        {
          "output_type": "execute_result",
          "data": {
            "text/html": [
              "<div>\n",
              "<style scoped>\n",
              "    .dataframe tbody tr th:only-of-type {\n",
              "        vertical-align: middle;\n",
              "    }\n",
              "\n",
              "    .dataframe tbody tr th {\n",
              "        vertical-align: top;\n",
              "    }\n",
              "\n",
              "    .dataframe thead th {\n",
              "        text-align: right;\n",
              "    }\n",
              "</style>\n",
              "<table border=\"1\" class=\"dataframe\">\n",
              "  <thead>\n",
              "    <tr style=\"text-align: right;\">\n",
              "      <th></th>\n",
              "      <th>row label 1</th>\n",
              "      <th>row label 2</th>\n",
              "      <th>distance</th>\n",
              "      <th>no. of items in clust.</th>\n",
              "    </tr>\n",
              "  </thead>\n",
              "  <tbody>\n",
              "    <tr>\n",
              "      <th>cluster 1</th>\n",
              "      <td>0.0</td>\n",
              "      <td>4.0</td>\n",
              "      <td>3.835396</td>\n",
              "      <td>2.0</td>\n",
              "    </tr>\n",
              "    <tr>\n",
              "      <th>cluster 2</th>\n",
              "      <td>1.0</td>\n",
              "      <td>2.0</td>\n",
              "      <td>4.347073</td>\n",
              "      <td>2.0</td>\n",
              "    </tr>\n",
              "    <tr>\n",
              "      <th>cluster 3</th>\n",
              "      <td>3.0</td>\n",
              "      <td>5.0</td>\n",
              "      <td>5.899885</td>\n",
              "      <td>3.0</td>\n",
              "    </tr>\n",
              "    <tr>\n",
              "      <th>cluster 4</th>\n",
              "      <td>6.0</td>\n",
              "      <td>7.0</td>\n",
              "      <td>8.316594</td>\n",
              "      <td>5.0</td>\n",
              "    </tr>\n",
              "  </tbody>\n",
              "</table>\n",
              "</div>"
            ],
            "text/plain": [
              "           row label 1  row label 2  distance  no. of items in clust.\n",
              "cluster 1          0.0          4.0  3.835396                     2.0\n",
              "cluster 2          1.0          2.0  4.347073                     2.0\n",
              "cluster 3          3.0          5.0  5.899885                     3.0\n",
              "cluster 4          6.0          7.0  8.316594                     5.0"
            ]
          },
          "metadata": {
            "tags": []
          },
          "execution_count": 17
        }
      ]
    },
    {
      "cell_type": "code",
      "metadata": {
        "id": "4GWYGyTyhLAm",
        "colab_type": "code",
        "colab": {}
      },
      "source": [
        "# 클러스터는 4개 나옴\n",
        "# row label 1, row label 2를 통해 각 클러스터에서 완전연결방식으로 병합된 클러스터 확인 가능\n",
        "## (예: cluster1 - ID_0, ID_4 병합, cluster2 - ID_1, ID_2 병합, cluster3 - ID_3, ID_5(ID_0+ID_4) 병합, cluster4 - ID_6(ID_3,ID_5), ID_7(ID_1,ID_2) 병합)\n",
        "# 세번째 열은 클러스터 간 거리 의미(예: cluster1에서 ID_0, ID_4간 거리는 3.835)\n",
        "# 네번째 열은 클러스터에 속한 아이템 수(예: cluster1의 아이템 수는 2개)"
      ],
      "execution_count": 0,
      "outputs": []
    },
    {
      "cell_type": "code",
      "metadata": {
        "id": "nC1HFYoNhK9B",
        "colab_type": "code",
        "colab": {
          "base_uri": "https://localhost:8080/",
          "height": 297
        },
        "outputId": "f9d30cef-38a1-415f-ed69-54f083d751ce"
      },
      "source": [
        "# 덴드로그램 그리기\n",
        "from scipy.cluster.hierarchy import dendrogram\n",
        "import matplotlib.pyplot as plt\n",
        "\n",
        "row_dendr = dendrogram(row_clusters, labels=labels)\n",
        "plt.tight_layout()\n",
        "plt.ylabel('Euclidean distance')\n",
        "plt.show()"
      ],
      "execution_count": 19,
      "outputs": [
        {
          "output_type": "display_data",
          "data": {
            "image/png": "[encoded data removed]",
            "text/plain": [
              "<Figure size 432x288 with 1 Axes>"
            ]
          },
          "metadata": {
            "tags": [],
            "needs_background": "light"
          }
        }
      ]
    },
    {
      "cell_type": "markdown",
      "metadata": {
        "id": "3A57ycqltuON",
        "colab_type": "text"
      },
      "source": [
        "## 3. Cost function 구현\n",
        "## $$cost(W) =  \\frac{1}{n}\\sum_{i=1}^n (Wx^{(i)}-y^{(i)})^2$$"
      ]
    },
    {
      "cell_type": "markdown",
      "metadata": {
        "id": "LS7Qtqm14hg-",
        "colab_type": "text"
      },
      "source": [
        "### 데이터(X, Y)"
      ]
    },
    {
      "cell_type": "code",
      "metadata": {
        "id": "iKpEGob-4EbZ",
        "colab_type": "code",
        "colab": {}
      },
      "source": [
        "# 제공된 데이터는 변경 할 수 없습니다.\n",
        "x = [1, 2, 3]\n",
        "y = [2, 4, 6]"
      ],
      "execution_count": 0,
      "outputs": []
    },
    {
      "cell_type": "markdown",
      "metadata": {
        "id": "AWaFS6a54vCL",
        "colab_type": "text"
      },
      "source": [
        "### cost function을 파이썬으로 구현하세요.\n",
        "pass를 지우고 cost_func 함수를 완성하세요.\n",
        "\n",
        "가중치(Weight)를 입력하면 코스트(cost)를 계산하는 함수를 만드는게 목적입니다."
      ]
    },
    {
      "cell_type": "code",
      "metadata": {
        "id": "LT3q8ACK4ezT",
        "colab_type": "code",
        "colab": {}
      },
      "source": [
        "# W(가중치) 데이터 타입 -> int or float\n",
        "# x(학습 데이터) 데이터 타입 -> list\n",
        "# y(정답 데이터) 데이터 타입 -> list\n",
        "# cost_func 함수 리턴값 타입 -> float\n",
        "# cost_func 함수 리턴값 = cost 값\n",
        "# W:가중치, x:학습 데이터 y:정답 데이터\n",
        "\n",
        "def cost_func(W, x, y):\n",
        "  sum = 0\n",
        "  for i in range(len(x)):\n",
        "    sum += (W*x[i]-y[i])**2\n",
        "  return sum/len(x)  "
      ],
      "execution_count": 0,
      "outputs": []
    },
    {
      "cell_type": "markdown",
      "metadata": {
        "id": "lP20Ia-Reb49",
        "colab_type": "text"
      },
      "source": [
        "예시) x가 [1, 2] 이고 y가 [3, 6] 그리고 W가 4 일 경우  cost_func(W, x, y)함수의 리턴값은 2.5"
      ]
    },
    {
      "cell_type": "code",
      "metadata": {
        "id": "3erDjyu28di4",
        "colab_type": "code",
        "colab": {
          "base_uri": "https://localhost:8080/",
          "height": 35
        },
        "outputId": "4cda6e04-7087-4a98-eeb0-45eae0ece7aa"
      },
      "source": [
        "#x=[1,2]; y=[3,6]; W=4\n",
        "#cost_func(W,x,y)"
      ],
      "execution_count": 22,
      "outputs": [
        {
          "output_type": "execute_result",
          "data": {
            "text/plain": [
              "2.5"
            ]
          },
          "metadata": {
            "tags": []
          },
          "execution_count": 22
        }
      ]
    },
    {
      "cell_type": "markdown",
      "metadata": {
        "id": "x4DoGgO9uZi2",
        "colab_type": "text"
      },
      "source": [
        "### cost_func을 활용하여 웨이트(Weight)가 -5부터 5까지의 변화에 따른 코스트(cost)를 출력 해주세요."
      ]
    },
    {
      "cell_type": "code",
      "metadata": {
        "id": "3XfP0-zIXQF6",
        "colab_type": "code",
        "colab": {
          "base_uri": "https://localhost:8080/",
          "height": 215
        },
        "outputId": "2a84c1cc-3c41-4399-86b2-1daa79332119"
      },
      "source": [
        "# 여기 코드셀은 변경하지 마세요.\n",
        "# 완성된 함수를 확인하는 과정으로 해당 코드셀을 실행해서 정상 출력되면 정답!\n",
        "# 주의! 에러가 날 경우 데이터 코드셀과 cost function 코드셀을 실행했는지 확인해주세요.\n",
        "for feed_W in range(-5, 6, 1):\n",
        "  curr_cost = cost_func(feed_W, x, y)\n",
        "  print(\"{:6.3f} | {:10.5f}\".format(feed_W, curr_cost))"
      ],
      "execution_count": 25,
      "outputs": [
        {
          "output_type": "stream",
          "text": [
            "-5.000 |  228.66667\n",
            "-4.000 |  168.00000\n",
            "-3.000 |  116.66667\n",
            "-2.000 |   74.66667\n",
            "-1.000 |   42.00000\n",
            " 0.000 |   18.66667\n",
            " 1.000 |    4.66667\n",
            " 2.000 |    0.00000\n",
            " 3.000 |    4.66667\n",
            " 4.000 |   18.66667\n",
            " 5.000 |   42.00000\n"
          ],
          "name": "stdout"
        }
      ]
    },
    {
      "cell_type": "code",
      "metadata": {
        "id": "IejOlVif8yIj",
        "colab_type": "code",
        "colab": {}
      },
      "source": [
        ""
      ],
      "execution_count": 0,
      "outputs": []
    }
  ]
}